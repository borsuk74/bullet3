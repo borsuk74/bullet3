{
 "cells": [
  {
   "cell_type": "code",
   "execution_count": 1,
   "metadata": {},
   "outputs": [],
   "source": [
    "import pybullet as p"
   ]
  },
  {
   "cell_type": "code",
   "execution_count": 2,
   "metadata": {},
   "outputs": [],
   "source": [
    "from time import sleep\n",
    "\n",
    "physicsClient = p.connect(p.GUI)\n",
    "\n"
   ]
  },
  {
   "cell_type": "code",
   "execution_count": 8,
   "metadata": {},
   "outputs": [
    {
     "data": {
      "text/plain": [
       "0"
      ]
     },
     "execution_count": 8,
     "metadata": {},
     "output_type": "execute_result"
    }
   ],
   "source": [
    "#modelsId = p.loadSoftBody(\"2models.obj\")\n",
    "visualShapeId = p.createVisualShape(shapeType=p.GEOM_MESH,fileName=\"2models.obj\")#, rgbaColor=[0,1,1,1], specularColor=[0.4,.4,0])#, visualFramePosition=shift, meshScale=meshScale)\n",
    "collisionShapeId  = p.createVisualShape(shapeType=p.GEOM_MESH,fileName=\"2models.obj\")#, rgbaColor=[1,1,1,1], specularColor=[0.4,.4,0], visualFramePosition=shift, meshScale=meshScale)\n",
    "p.createMultiBody(baseMass=1,baseInertialFramePosition=[0,0,0],\n",
    "\n",
    "\n",
    "\n",
    "\n",
    "baseInertialFrameOrientation=[0.0,0.0,0.5,1.0],\n",
    "baseCollisionShapeIndex=collisionShapeId, baseVisualShapeIndex = visualShapeId)#, basePosition = [((-rangex/2)+i)*meshScale[0]*2,(-rangey/2+j)*meshScale[1]*2,1], useMaximalCoordinates=True)\n",
    "\n"
   ]
  },
  {
   "cell_type": "code",
   "execution_count": 20,
   "metadata": {},
   "outputs": [
    {
     "name": "stdout",
     "output_type": "stream",
     "text": [
      "(0.0007963264582434141, -0.0007963264582434141, 0.9999993658637698, 6.341362302272584e-07)\n"
     ]
    }
   ],
   "source": [
    "obj_orn = p.getQuaternionFromEuler([3.14,-3.14,0])\n",
    "print(obj_orn)"
   ]
  },
  {
   "cell_type": "code",
   "execution_count": 29,
   "metadata": {},
   "outputs": [
    {
     "data": {
      "text/plain": [
       "0"
      ]
     },
     "execution_count": 29,
     "metadata": {},
     "output_type": "execute_result"
    }
   ],
   "source": [
    "visualShapeId = p.createVisualShape(shapeType=p.GEOM_MESH,fileName=\"model 2.obj\")#, rgbaColor=[0,1,1,1], specularColor=[0.4,.4,0])#, visualFramePosition=shift, meshScale=meshScale)\n",
    "collisionShapeId  = p.createVisualShape(shapeType=p.GEOM_MESH,fileName=\"model 2.obj\")#, rgbaColor=[1,1,1,1], specularColor=[0.4,.4,0], visualFramePosition=shift, meshScale=meshScale)\n",
    "p.createMultiBody(baseMass=1,baseInertialFramePosition=[0,0,0],\n",
    "\n",
    "\n",
    "\n",
    "\n",
    "#baseInertialFrameOrientation=[10.0,-0.0,0.0,0.0],\n",
    "baseCollisionShapeIndex=collisionShapeId, baseVisualShapeIndex = visualShapeId)#, basePosition = [((-rangex/2)+i)*meshScale[0]*2,(-rangey/2+j)*meshScale[1]*2,1], useMaximalCoordinates=True)\n",
    "\n"
   ]
  },
  {
   "cell_type": "code",
   "execution_count": 4,
   "metadata": {},
   "outputs": [],
   "source": [
    "p.setGravity(0., 0., -10.)"
   ]
  },
  {
   "cell_type": "code",
   "execution_count": 11,
   "metadata": {},
   "outputs": [],
   "source": [
    "p.stepSimulation()"
   ]
  },
  {
   "cell_type": "code",
   "execution_count": 28,
   "metadata": {},
   "outputs": [],
   "source": [
    "p.resetSimulation()"
   ]
  },
  {
   "cell_type": "code",
   "execution_count": null,
   "metadata": {},
   "outputs": [],
   "source": []
  }
 ],
 "metadata": {
  "kernelspec": {
   "display_name": "Python 3",
   "language": "python",
   "name": "python3"
  },
  "language_info": {
   "codemirror_mode": {
    "name": "ipython",
    "version": 3
   },
   "file_extension": ".py",
   "mimetype": "text/x-python",
   "name": "python",
   "nbconvert_exporter": "python",
   "pygments_lexer": "ipython3",
   "version": "3.7.2"
  }
 },
 "nbformat": 4,
 "nbformat_minor": 2
}
