{
 "cells": [
  {
   "cell_type": "code",
   "execution_count": 1,
   "metadata": {},
   "outputs": [
    {
     "data": {
      "text/plain": [
       "0"
      ]
     },
     "execution_count": 1,
     "metadata": {},
     "output_type": "execute_result"
    }
   ],
   "source": [
    "import pybullet as p\n",
    "\n",
    "import time,math\n",
    "\n",
    "p.connect(p.SHARED_MEMORY)\n",
    "\n"
   ]
  },
  {
   "cell_type": "code",
   "execution_count": 10,
   "metadata": {},
   "outputs": [
    {
     "ename": "error",
     "evalue": "Cannot load SDF file.",
     "output_type": "error",
     "traceback": [
      "\u001b[1;31m---------------------------------------------------------------------------\u001b[0m",
      "\u001b[1;31merror\u001b[0m                                     Traceback (most recent call last)",
      "\u001b[1;32m<ipython-input-10-7909da7bed9d>\u001b[0m in \u001b[0;36m<module>\u001b[1;34m\u001b[0m\n\u001b[1;32m----> 1\u001b[1;33m \u001b[0mobjs\u001b[0m \u001b[1;33m=\u001b[0m \u001b[0mp\u001b[0m\u001b[1;33m.\u001b[0m\u001b[0mloadSDF\u001b[0m\u001b[1;33m(\u001b[0m\u001b[1;34m\"botlab.sdf\"\u001b[0m\u001b[1;33m,\u001b[0m \u001b[0mglobalScaling\u001b[0m\u001b[1;33m=\u001b[0m\u001b[1;36m2.0\u001b[0m\u001b[1;33m)\u001b[0m\u001b[1;33m\u001b[0m\u001b[1;33m\u001b[0m\u001b[0m\n\u001b[0m\u001b[0;32m      2\u001b[0m \u001b[1;33m\u001b[0m\u001b[0m\n",
      "\u001b[1;31merror\u001b[0m: Cannot load SDF file."
     ]
    }
   ],
   "source": [
    "objs = p.loadSDF(\"botlab.sdf\", globalScaling=2.0)\n",
    "\n"
   ]
  },
  {
   "cell_type": "code",
   "execution_count": null,
   "metadata": {},
   "outputs": [],
   "source": [
    "zero=[0,0,0]\n",
    "\n",
    "p.configureDebugVisualizer(p.COV_ENABLE_RENDERING,1)\n",
    "\n",
    "print(\"converting y to z axis\")\n",
    "\n",
    "for o in objs:\n",
    "\n",
    "\t\tpos,orn = p.getBasePositionAndOrientation(o)\n",
    "\n",
    "\t\ty2x = p.getQuaternionFromEuler([3.14/2.,0,3.14/2])\n",
    "\n",
    "\t\tnewpos,neworn = p.multiplyTransforms(zero,y2x,pos,orn)\n",
    "\n",
    "\t\tp.resetBasePositionAndOrientation(o,newpos,neworn)"
   ]
  },
  {
   "cell_type": "code",
   "execution_count": 8,
   "metadata": {},
   "outputs": [],
   "source": [
    "p.resetSimulation()"
   ]
  },
  {
   "cell_type": "code",
   "execution_count": null,
   "metadata": {},
   "outputs": [],
   "source": []
  }
 ],
 "metadata": {
  "kernelspec": {
   "display_name": "Python 3",
   "language": "python",
   "name": "python3"
  },
  "language_info": {
   "codemirror_mode": {
    "name": "ipython",
    "version": 3
   },
   "file_extension": ".py",
   "mimetype": "text/x-python",
   "name": "python",
   "nbconvert_exporter": "python",
   "pygments_lexer": "ipython3",
   "version": "3.7.2"
  }
 },
 "nbformat": 4,
 "nbformat_minor": 2
}
