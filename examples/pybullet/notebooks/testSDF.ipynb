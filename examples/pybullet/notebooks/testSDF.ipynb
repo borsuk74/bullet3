{
 "cells": [
  {
   "cell_type": "code",
   "execution_count": 1,
   "metadata": {},
   "outputs": [
    {
     "data": {
      "text/plain": [
       "0"
      ]
     },
     "execution_count": 1,
     "metadata": {},
     "output_type": "execute_result"
    }
   ],
   "source": [
    "import pybullet as p\n",
    "import time,math\n",
    "p.connect(p.GUI)"
   ]
  },
  {
   "cell_type": "code",
   "execution_count": 18,
   "metadata": {},
   "outputs": [],
   "source": [
    " tableId = p.loadURDF(\"table/table.urdf\", -0.000000,0.000000,-1.000000,0.000000,0.000000,0.000000,1.000000)"
   ]
  },
  {
   "cell_type": "code",
   "execution_count": 19,
   "metadata": {},
   "outputs": [],
   "source": [
    "#objs = p.loadSDF(\"mybotlab1/newsdf.sdf\", globalScaling=2.0)\n",
    "#objs = p.loadSDF(\"bottles/bottle1sdf.sdf\", globalScaling=0.5)\n",
    "#smallCubeId = p.loadSDF(\"bottles/cube_small.sdf\",globalScaling=0.5)\n",
    "#objs = p.loadSDF(\"cup/cupsdf.sdf\", globalScaling=0.5)\n",
    "objs = p.loadSDF(\"bolt/bolt.sdf\", globalScaling=4.5)"
   ]
  },
  {
   "cell_type": "code",
   "execution_count": 20,
   "metadata": {},
   "outputs": [
    {
     "name": "stdout",
     "output_type": "stream",
     "text": [
      "converting y to z axis\n"
     ]
    }
   ],
   "source": [
    "zero=[0,0,0]\n",
    "p.configureDebugVisualizer(p.COV_ENABLE_RENDERING,1)\n",
    "print(\"converting y to z axis\")\n",
    "for o in objs:\n",
    "\t\tpos,orn = p.getBasePositionAndOrientation(o)\n",
    "\t\ty2x = p.getQuaternionFromEuler([3.14/2.,0,3.14/2])\n",
    "\t\tnewpos,neworn = p.multiplyTransforms(zero,y2x,pos,orn)\n",
    "\t\tp.resetBasePositionAndOrientation(o,newpos,neworn)"
   ]
  },
  {
   "cell_type": "code",
   "execution_count": 21,
   "metadata": {},
   "outputs": [],
   "source": [
    "p.setGravity(0., 0., -10.)\n",
    "p.stepSimulation()"
   ]
  },
  {
   "cell_type": "code",
   "execution_count": 22,
   "metadata": {},
   "outputs": [],
   "source": [
    " for _ in range(1000):\n",
    "\n",
    "        p.stepSimulation()"
   ]
  },
  {
   "cell_type": "code",
   "execution_count": 23,
   "metadata": {},
   "outputs": [],
   "source": [
    "#texUid = p.loadTexture(\"checker_blue.png\")\n",
    "texUid = p.loadTexture(\"tiles.jpg\")"
   ]
  },
  {
   "cell_type": "code",
   "execution_count": 24,
   "metadata": {},
   "outputs": [],
   "source": [
    "p.changeVisualShape(objs[0],-1, textureUniqueId = texUid)"
   ]
  },
  {
   "cell_type": "code",
   "execution_count": 17,
   "metadata": {},
   "outputs": [],
   "source": [
    "p.resetSimulation()"
   ]
  },
  {
   "cell_type": "code",
   "execution_count": null,
   "metadata": {},
   "outputs": [],
   "source": []
  }
 ],
 "metadata": {
  "kernelspec": {
   "display_name": "Python 3",
   "language": "python",
   "name": "python3"
  },
  "language_info": {
   "codemirror_mode": {
    "name": "ipython",
    "version": 3
   },
   "file_extension": ".py",
   "mimetype": "text/x-python",
   "name": "python",
   "nbconvert_exporter": "python",
   "pygments_lexer": "ipython3",
   "version": "3.7.2"
  }
 },
 "nbformat": 4,
 "nbformat_minor": 2
}
